{
 "cells": [
  {
   "cell_type": "code",
   "execution_count": 1,
   "id": "6370930e-0add-4c3d-b4f7-95718531a07b",
   "metadata": {},
   "outputs": [],
   "source": [
    "\"\"\"\n",
    "This notebook demonstrates data analysis using pandas and numpy libraries.\n",
    "\n",
    "Libraries imported:\n",
    "- pandas: A powerful data manipulation and analysis library\n",
    "- numpy: A fundamental package for scientific computing with Python\n",
    "\n",
    "These libraries work together to provide:\n",
    "- Efficient data structures for tabular data (pandas DataFrame)\n",
    "- Mathematical operations and array manipulation (numpy arrays)\n",
    "- Statistical analysis and data transformation capabilities\n",
    "\"\"\"\n",
    "\n",
    "import pandas as pd\n",
    "import numpy as np # type: ignore\n"
   ]
  },
  {
   "cell_type": "code",
   "execution_count": 14,
   "id": "e046c81d-326a-4ba8-a30c-6b96884a91fb",
   "metadata": {},
   "outputs": [],
   "source": [
    "# Create a numpy array of size 3, filled with ones (1's) and integer type\n",
    "my_array = np.ones(3, dtype=([('foo', int), ('bar', float)]))\n",
    "print(my_array['foo'])\n",
    "print(my_array)"
   ]
  },
  {
   "cell_type": "code",
   "execution_count": 16,
   "id": "d3f2d1b0-8d7c-4b97-8004-482df4305700",
   "metadata": {},
   "outputs": [
    {
     "name": "stdout",
     "output_type": "stream",
     "text": [
      "[1 1 1]\n"
     ]
    }
   ],
   "source": [
    "# Create a 1D numpy array of size 3, filled with ones (1's)\n",
    "# dtype=(int) specifies that all elements should be integers\n",
    "my_array = np.ones(3, dtype=(int))\n",
    "\n",
    "# Print the array - this will show: [1 1 1]\n",
    "print(my_array)   "
   ]
  },
  {
   "cell_type": "code",
   "execution_count": 4,
   "id": "e724b750-7d86-440a-90ec-f4db8ad5d0ca",
   "metadata": {},
   "outputs": [
    {
     "name": "stdout",
     "output_type": "stream",
     "text": [
      "[1 1 1]\n"
     ]
    }
   ],
   "source": [
    "# Convert the array to a record array view (np.recarray)\n",
    "# This allows accessing fields using dot notation instead of dictionary-style notation\n",
    "my_array2 = my_array.view(np.recarray)\n",
    "\n",
    "# Access the 'foo' field using dot notation (my_array2.foo)\n",
    "# This is equivalent to my_array['foo'] but with a more convenient syntax\n",
    "print(my_array2.foo)"
   ]
  },
  {
   "cell_type": "code",
   "execution_count": 20,
   "id": "a5f1fdfd-b4c8-4bbc-b6b4-12758b765b13",
   "metadata": {},
   "outputs": [],
   "source": [
    "# Create a structured array of size 3, filled with ones\n",
    "# The array has two named fields:\n",
    "#   - 'foo': integer type\n",
    "#   - 'bar': floating-point type\n",
    "my_array = np.ones(3, dtype=([('foo', int), ('bar', float)]))\n",
    "\n",
    "# Print the integer field 'foo' values\n",
    "print(my_array['foo'])\n",
    "\n",
    "# Print the floating-point field 'bar' values\n",
    "print(my_array['bar'])\n"
   ]
  },
  {
   "cell_type": "code",
   "execution_count": 23,
   "id": "21c3b4e7-9a46-48d5-b9fb-ba2004154418",
   "metadata": {},
   "outputs": [],
   "source": [
    "# Convert the structured array to a record array view\n",
    "# This allows attribute-style access to fields (using dot notation)\n",
    "my_array2 = my_array.view(np.recarray)\n",
    "\n",
    "# Print the entire record array with all its fields\n",
    "print(my_array2)\n",
    "\n",
    "# Print just the 'foo' field values using dot notation\n",
    "# This is more intuitive than dictionary-style access my_array['foo']\n",
    "print(my_array2.foo)\n"
   ]
  },
  {
   "cell_type": "code",
   "execution_count": 27,
   "id": "dd3eeaf4-8c13-4edd-8e27-9e63f5897c2a",
   "metadata": {},
   "outputs": [],
   "source": [
    "# Create a 2D numpy array with headers and data\n",
    "# Structure:\n",
    "#   - First row: Empty cell, followed by column headers (Col1, Col2)\n",
    "#   - Following rows: Row labels in first column, followed by data values\n",
    "data = np.array([['','Col1','Col2'],      # Headers row: empty, Col1, Col2\n",
    "                ['Row1',1,2],             # First data row: Row1 label, values 1,2\n",
    "                ['Row2',3,4]])            # Second data row: Row2 label, values 3,4\n",
    "\n",
    "# Print the entire array including headers and data\n",
    "print(data)"
   ]
  },
  {
   "cell_type": "code",
   "execution_count": 30,
   "id": "121c010b-8b2e-4a32-bab7-344abd2ce533",
   "metadata": {},
   "outputs": [
    {
     "data": {
      "text/html": [
       "<div>\n",
       "<style scoped>\n",
       "    .dataframe tbody tr th:only-of-type {\n",
       "        vertical-align: middle;\n",
       "    }\n",
       "\n",
       "    .dataframe tbody tr th {\n",
       "        vertical-align: top;\n",
       "    }\n",
       "\n",
       "    .dataframe thead th {\n",
       "        text-align: right;\n",
       "    }\n",
       "</style>\n",
       "<table border=\"1\" class=\"dataframe\">\n",
       "  <thead>\n",
       "    <tr style=\"text-align: right;\">\n",
       "      <th></th>\n",
       "      <th>Col1</th>\n",
       "      <th>Col2</th>\n",
       "    </tr>\n",
       "  </thead>\n",
       "  <tbody>\n",
       "    <tr>\n",
       "      <th>Row1</th>\n",
       "      <td>1</td>\n",
       "      <td>2</td>\n",
       "    </tr>\n",
       "    <tr>\n",
       "      <th>Row2</th>\n",
       "      <td>3</td>\n",
       "      <td>4</td>\n",
       "    </tr>\n",
       "  </tbody>\n",
       "</table>\n",
       "</div>"
      ],
      "text/plain": [
       "     Col1 Col2\n",
       "Row1    1    2\n",
       "Row2    3    4"
      ]
     },
     "execution_count": 30,
     "metadata": {},
     "output_type": "execute_result"
    }
   ],
   "source": [
    "# Create a pandas DataFrame from the numpy array\n",
    "# This transforms the 2D array into a structured table with labeled rows and columns\n",
    "pd.DataFrame(\n",
    "    # Extract data values only (exclude row labels and column headers)\n",
    "    # data[1:, 1:] means: all rows except first, all columns except first\n",
    "    data=data[1:, 1:], \n",
    "    \n",
    "    # Set row labels (index) using the first column values (Row1, Row2)\n",
    "    # data[1:, 0] means: all rows except first, only the first column\n",
    "    index=data[1:, 0], \n",
    "    \n",
    "    # Set column names using the first row values (Col1, Col2)\n",
    "    # data[0, 1:] means: only the first row, all columns except first\n",
    "    columns=data[0, 1:] \n",
    ")"
   ]
  },
  {
   "cell_type": "code",
   "execution_count": 34,
   "id": "7352cae6-9df1-4745-bf03-0315ad18606a",
   "metadata": {},
   "outputs": [],
   "source": [
    "df = pd.read_excel(\"Data.xlsx\")\n",
    "print(df.head())\n",
    "print(df.shape)\n",
    "print(df.info())"
   ]
  },
  {
   "cell_type": "code",
   "execution_count": 41,
   "id": "91f52a6b-6961-4758-867e-a2d6998b53b5",
   "metadata": {},
   "outputs": [
    {
     "data": {
      "text/plain": [
       "<bound method NDFrame.describe of     Unnamed: 0           Unnamed: 1              Unnamed: 2  Unnamed: 3  \\\n",
       "0          NaN                 DATE                    NAME    DESCRIBE   \n",
       "1          NaN  2024-02-01 00:00:00                Merhawit  Healthcare   \n",
       "2          NaN  2024-02-01 00:00:00          Abiel G/Meskel    Forklift   \n",
       "3          NaN  2024-02-01 00:00:00          Adhanom Tesfay    Computer   \n",
       "4          NaN  2024-02-01 00:00:00            Bahlbi Guesh    Forklift   \n",
       "5          NaN  2024-02-01 00:00:00        Natnael Yohannes   Excavator   \n",
       "6          NaN  2024-02-01 00:00:00           Yosab solomon   Excavator   \n",
       "7          NaN  2024-02-01 00:00:00            Enginer Fred     Expense   \n",
       "8          NaN  2024-02-01 00:00:00        Water for office     Expense   \n",
       "9          NaN  2024-02-01 00:00:00     Awet wood transport     Expense   \n",
       "10         NaN  2024-03-01 00:00:00  Muyenga site transport     Expense   \n",
       "\n",
       "   Unnamed: 4 Unnamed: 5  \n",
       "0       DEBIT     CREDIT  \n",
       "1      370000          0  \n",
       "2      400000          0  \n",
       "3      250000          0  \n",
       "4      200000        NaN  \n",
       "5       90000          0  \n",
       "6      450000          0  \n",
       "7           0      60000  \n",
       "8           0       5000  \n",
       "9           0       5000  \n",
       "10          0       4000  >"
      ]
     },
     "execution_count": 41,
     "metadata": {},
     "output_type": "execute_result"
    }
   ],
   "source": [
    "print(df.describe)\n"
   ]
  },
  {
   "cell_type": "code",
   "execution_count": 42,
   "id": "4fdf454f-fc8c-40fe-af36-f0f5f954cdb1",
   "metadata": {},
   "outputs": [
    {
     "name": "stdout",
     "output_type": "stream",
     "text": [
      "(2, 3)\n",
      "2\n"
     ]
    }
   ],
   "source": [
    "df = pd.DataFrame(np.array([[1, 2, 3], [4, 5, 6]]))\n",
    "\n",
    "# Use the `shape` property\n",
    "print(df.shape)\n",
    "\n",
    "# Or use the `len()` function with the `index` property\n",
    "print(len(df))"
   ]
  },
  {
   "cell_type": "code",
   "execution_count": 43,
   "id": "610a85b0-2c69-4cc0-9c8e-948ca808a215",
   "metadata": {},
   "outputs": [
    {
     "name": "stdout",
     "output_type": "stream",
     "text": [
      "   0  1  2\n",
      "0  1  2  3\n",
      "1  4  5  6\n",
      "   1  2  3\n",
      "0  1  1  2\n",
      "1  3  2  4\n",
      "   A\n",
      "0  4\n",
      "1  5\n",
      "2  6\n",
      "3  7\n",
      "                         0\n",
      "Belgium           Brussels\n",
      "India            New Delhi\n",
      "United Kingdom      London\n",
      "United States   Washington\n"
     ]
    }
   ],
   "source": [
    "# Take a 2D array as input to your DataFrame \n",
    "my_2darray = np.array([[1, 2, 3], [4, 5, 6]])\n",
    "print(pd.DataFrame(my_2darray))\n",
    "\n",
    "# Take a dictionary as input to your DataFrame \n",
    "my_dict = {1: ['1', '3'], 2: ['1', '2'], 3: ['2', '4']}\n",
    "print(pd.DataFrame(my_dict))\n",
    "\n",
    "# Take a DataFrame as input to your DataFrame \n",
    "my_df = pd.DataFrame(data=[4,5,6,7], index=range(0,4), columns=['A'])\n",
    "print(pd.DataFrame(my_df))\n",
    "\n",
    "# Take a Series as input to your DataFrame\n",
    "my_series = pd.Series({\"Belgium\":\"Brussels\", \"India\":\"New Delhi\", \"United Kingdom\":\"London\", \"United States\":\"Washington\"})\n",
    "print(pd.DataFrame(my_series))"
   ]
  }
 ],
 "metadata": {
  "kernelspec": {
   "display_name": "Python 3 (ipykernel)",
   "language": "python",
   "name": "python3"
  },
  "language_info": {
   "codemirror_mode": {
    "name": "ipython",
    "version": 3
   },
   "file_extension": ".py",
   "mimetype": "text/x-python",
   "name": "python",
   "nbconvert_exporter": "python",
   "pygments_lexer": "ipython3",
   "version": "3.12.7"
  }
 },
 "nbformat": 4,
 "nbformat_minor": 5
}
