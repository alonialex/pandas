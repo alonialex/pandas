{
 "cells": [
  {
   "cell_type": "code",
   "execution_count": 1,
   "id": "6370930e-0add-4c3d-b4f7-95718531a07b",
   "metadata": {},
   "outputs": [],
   "source": [
    "import pandas as pd\n",
    "import numpy as np"
   ]
  },
  {
   "cell_type": "code",
   "execution_count": 14,
   "id": "e046c81d-326a-4ba8-a30c-6b96884a91fb",
   "metadata": {},
   "outputs": [],
   "source": [
    "my_array = np.ones(3, dtype=([('foo', int), ('bar', float)]))"
   ]
  },
  {
   "cell_type": "code",
   "execution_count": 19,
   "id": "d80d46b5-bedc-48db-bb71-9099b1f29c39",
   "metadata": {},
   "outputs": [
    {
     "ename": "IndexError",
     "evalue": "only integers, slices (`:`), ellipsis (`...`), numpy.newaxis (`None`) and integer or boolean arrays are valid indices",
     "output_type": "error",
     "traceback": [
      "\u001b[1;31m---------------------------------------------------------------------------\u001b[0m",
      "\u001b[1;31mIndexError\u001b[0m                                Traceback (most recent call last)",
      "Cell \u001b[1;32mIn[19], line 1\u001b[0m\n\u001b[1;32m----> 1\u001b[0m \u001b[38;5;28mprint\u001b[39m(my_array[\u001b[38;5;124m'\u001b[39m\u001b[38;5;124mfoo\u001b[39m\u001b[38;5;124m'\u001b[39m])\n",
      "\u001b[1;31mIndexError\u001b[0m: only integers, slices (`:`), ellipsis (`...`), numpy.newaxis (`None`) and integer or boolean arrays are valid indices"
     ]
    }
   ],
   "source": [
    "print(my_array['foo'])"
   ]
  },
  {
   "cell_type": "code",
   "execution_count": 15,
   "id": "b5fc53f8-19ff-43f6-bb15-7797dbd8db1b",
   "metadata": {},
   "outputs": [
    {
     "name": "stdout",
     "output_type": "stream",
     "text": [
      "[(1, 1.) (1, 1.) (1, 1.)]\n"
     ]
    }
   ],
   "source": [
    "print(my_array)"
   ]
  },
  {
   "cell_type": "code",
   "execution_count": null,
   "id": "1d3ba4c8-432e-4c44-8726-7380110da566",
   "metadata": {},
   "outputs": [],
   "source": []
  },
  {
   "cell_type": "code",
   "execution_count": 16,
   "id": "d3f2d1b0-8d7c-4b97-8004-482df4305700",
   "metadata": {},
   "outputs": [
    {
     "name": "stdout",
     "output_type": "stream",
     "text": [
      "[1 1 1]\n"
     ]
    }
   ],
   "source": [
    "my_array = np.ones(3, dtype=(int))\n",
    "print(my_array)                             "
   ]
  },
  {
   "cell_type": "code",
   "execution_count": 17,
   "id": "293eef15-da7b-48ce-b7b3-56216f59df07",
   "metadata": {},
   "outputs": [
    {
     "name": "stdout",
     "output_type": "stream",
     "text": [
      "[1 1 1]\n"
     ]
    }
   ],
   "source": [
    "print(my_array)"
   ]
  },
  {
   "cell_type": "code",
   "execution_count": 18,
   "id": "b40ce133-73a0-4720-ae23-f6ed545ad89e",
   "metadata": {},
   "outputs": [
    {
     "ename": "IndexError",
     "evalue": "only integers, slices (`:`), ellipsis (`...`), numpy.newaxis (`None`) and integer or boolean arrays are valid indices",
     "output_type": "error",
     "traceback": [
      "\u001b[1;31m---------------------------------------------------------------------------\u001b[0m",
      "\u001b[1;31mIndexError\u001b[0m                                Traceback (most recent call last)",
      "Cell \u001b[1;32mIn[18], line 1\u001b[0m\n\u001b[1;32m----> 1\u001b[0m \u001b[38;5;28mprint\u001b[39m(my_array[\u001b[38;5;124m'\u001b[39m\u001b[38;5;124mfoo\u001b[39m\u001b[38;5;124m'\u001b[39m])\n",
      "\u001b[1;31mIndexError\u001b[0m: only integers, slices (`:`), ellipsis (`...`), numpy.newaxis (`None`) and integer or boolean arrays are valid indices"
     ]
    }
   ],
   "source": [
    "print(my_array['foo'])"
   ]
  },
  {
   "cell_type": "code",
   "execution_count": 4,
   "id": "e724b750-7d86-440a-90ec-f4db8ad5d0ca",
   "metadata": {},
   "outputs": [
    {
     "name": "stdout",
     "output_type": "stream",
     "text": [
      "[1 1 1]\n"
     ]
    }
   ],
   "source": [
    "my_array2 = my_array.view(np.recarray)\n",
    "print(my_array2.foo)"
   ]
  },
  {
   "cell_type": "code",
   "execution_count": 20,
   "id": "a5f1fdfd-b4c8-4bbc-b6b4-12758b765b13",
   "metadata": {},
   "outputs": [],
   "source": [
    "my_array = np.ones(3, dtype=([('foo', int), ('bar', float)]))\n"
   ]
  },
  {
   "cell_type": "code",
   "execution_count": 21,
   "id": "a3331e1b-7ab6-4577-a7e8-1bf6ca5e83e0",
   "metadata": {},
   "outputs": [
    {
     "name": "stdout",
     "output_type": "stream",
     "text": [
      "[1 1 1]\n"
     ]
    }
   ],
   "source": [
    "print(my_array['foo'])\n"
   ]
  },
  {
   "cell_type": "code",
   "execution_count": 22,
   "id": "020ca53f-9ce5-481e-8614-4610983c1859",
   "metadata": {},
   "outputs": [
    {
     "name": "stdout",
     "output_type": "stream",
     "text": [
      "[1. 1. 1.]\n"
     ]
    }
   ],
   "source": [
    "print(my_array['bar'])\n"
   ]
  },
  {
   "cell_type": "code",
   "execution_count": 23,
   "id": "21c3b4e7-9a46-48d5-b9fb-ba2004154418",
   "metadata": {},
   "outputs": [],
   "source": [
    "my_array2 = my_array.view(np.recarray)\n"
   ]
  },
  {
   "cell_type": "code",
   "execution_count": 24,
   "id": "43a69456-bbbc-4f8b-868c-d036f0b6681a",
   "metadata": {},
   "outputs": [
    {
     "name": "stdout",
     "output_type": "stream",
     "text": [
      "[(1, 1.) (1, 1.) (1, 1.)]\n"
     ]
    }
   ],
   "source": [
    "print(my_array2)"
   ]
  },
  {
   "cell_type": "code",
   "execution_count": 25,
   "id": "d5f5606b-e45f-43b4-8e00-a9e6c04f0944",
   "metadata": {},
   "outputs": [
    {
     "name": "stdout",
     "output_type": "stream",
     "text": [
      "[1 1 1]\n"
     ]
    }
   ],
   "source": [
    "print(my_array2.foo)\n"
   ]
  },
  {
   "cell_type": "code",
   "execution_count": 26,
   "id": "3f139007-732e-413b-98a4-91ee24dda0b5",
   "metadata": {},
   "outputs": [
    {
     "ename": "SyntaxError",
     "evalue": "incomplete input (2931746524.py, line 1)",
     "output_type": "error",
     "traceback": [
      "\u001b[1;36m  Cell \u001b[1;32mIn[26], line 1\u001b[1;36m\u001b[0m\n\u001b[1;33m    data = np.array([['','Col1','Col2'],\u001b[0m\n\u001b[1;37m                                        ^\u001b[0m\n\u001b[1;31mSyntaxError\u001b[0m\u001b[1;31m:\u001b[0m incomplete input\n"
     ]
    }
   ],
   "source": [
    "data = np.array([['','Col1','Col2'],"
   ]
  },
  {
   "cell_type": "code",
   "execution_count": 27,
   "id": "dd3eeaf4-8c13-4edd-8e27-9e63f5897c2a",
   "metadata": {},
   "outputs": [],
   "source": [
    "data = np.array([['','Col1','Col2'],\n",
    "                ['Row1',1,2],\n",
    "                ['Row2',3,4]])"
   ]
  },
  {
   "cell_type": "code",
   "execution_count": 29,
   "id": "b0c9ace1-83b6-4f78-aa26-21adeb9f86c8",
   "metadata": {},
   "outputs": [
    {
     "data": {
      "text/plain": [
       "array([['', 'Col1', 'Col2'],\n",
       "       ['Row1', '1', '2'],\n",
       "       ['Row2', '3', '4']], dtype='<U11')"
      ]
     },
     "execution_count": 29,
     "metadata": {},
     "output_type": "execute_result"
    }
   ],
   "source": [
    "data"
   ]
  },
  {
   "cell_type": "code",
   "execution_count": 30,
   "id": "121c010b-8b2e-4a32-bab7-344abd2ce533",
   "metadata": {},
   "outputs": [
    {
     "data": {
      "text/html": [
       "<div>\n",
       "<style scoped>\n",
       "    .dataframe tbody tr th:only-of-type {\n",
       "        vertical-align: middle;\n",
       "    }\n",
       "\n",
       "    .dataframe tbody tr th {\n",
       "        vertical-align: top;\n",
       "    }\n",
       "\n",
       "    .dataframe thead th {\n",
       "        text-align: right;\n",
       "    }\n",
       "</style>\n",
       "<table border=\"1\" class=\"dataframe\">\n",
       "  <thead>\n",
       "    <tr style=\"text-align: right;\">\n",
       "      <th></th>\n",
       "      <th>Col1</th>\n",
       "      <th>Col2</th>\n",
       "    </tr>\n",
       "  </thead>\n",
       "  <tbody>\n",
       "    <tr>\n",
       "      <th>Row1</th>\n",
       "      <td>1</td>\n",
       "      <td>2</td>\n",
       "    </tr>\n",
       "    <tr>\n",
       "      <th>Row2</th>\n",
       "      <td>3</td>\n",
       "      <td>4</td>\n",
       "    </tr>\n",
       "  </tbody>\n",
       "</table>\n",
       "</div>"
      ],
      "text/plain": [
       "     Col1 Col2\n",
       "Row1    1    2\n",
       "Row2    3    4"
      ]
     },
     "execution_count": 30,
     "metadata": {},
     "output_type": "execute_result"
    }
   ],
   "source": [
    "pd.DataFrame(\n",
    "    data=data[1:, 1:], # Extracts only the numeric data (excluding headers)\n",
    "    index=data[1:, 0], # Uses the first column (Row1, Row2) as the index\n",
    "    columns=data[0, 1:] # Uses the first row (Col1, Col2) as column names\n",
    ")\n"
   ]
  },
  {
   "cell_type": "code",
   "execution_count": null,
   "id": "dcbe6399-a72a-4fe4-93cc-d00acf125148",
   "metadata": {},
   "outputs": [],
   "source": [
    "Breaking it down:\n",
    "\n",
    "data[1:, 1:]:\n",
    "Extracts the data values ([[1, 2], [3, 4]]), excluding row/column labels.\n",
    "index=data[1:, 0]:\n",
    "Extracts the row index (['Row1', 'Row2']).\n",
    "columns=data[0, 1:]:\n",
    "Extracts the column names (['Col1', 'Col2'])."
   ]
  },
  {
   "cell_type": "code",
   "execution_count": 34,
   "id": "7352cae6-9df1-4745-bf03-0315ad18606a",
   "metadata": {},
   "outputs": [],
   "source": [
    "df = pd.read_excel(\"Data.xlsx\")"
   ]
  },
  {
   "cell_type": "code",
   "execution_count": 35,
   "id": "3c1f8f86-7537-489c-b75e-1193274301ab",
   "metadata": {},
   "outputs": [
    {
     "name": "stdout",
     "output_type": "stream",
     "text": [
      "   Unnamed: 0           Unnamed: 1      Unnamed: 2  Unnamed: 3 Unnamed: 4  \\\n",
      "0         NaN                 DATE            NAME    DESCRIBE      DEBIT   \n",
      "1         NaN  2024-02-01 00:00:00        Merhawit  Healthcare     370000   \n",
      "2         NaN  2024-02-01 00:00:00  Abiel G/Meskel    Forklift     400000   \n",
      "3         NaN  2024-02-01 00:00:00  Adhanom Tesfay    Computer     250000   \n",
      "4         NaN  2024-02-01 00:00:00    Bahlbi Guesh    Forklift     200000   \n",
      "\n",
      "  Unnamed: 5  \n",
      "0     CREDIT  \n",
      "1          0  \n",
      "2          0  \n",
      "3          0  \n",
      "4        NaN  \n"
     ]
    }
   ],
   "source": [
    "print(df.head())\n"
   ]
  },
  {
   "cell_type": "code",
   "execution_count": 39,
   "id": "44cc1737-792d-49aa-9fee-01f82e083a1c",
   "metadata": {},
   "outputs": [
    {
     "data": {
      "text/plain": [
       "(11, 6)"
      ]
     },
     "execution_count": 39,
     "metadata": {},
     "output_type": "execute_result"
    }
   ],
   "source": [
    "df.shape"
   ]
  },
  {
   "cell_type": "code",
   "execution_count": 40,
   "id": "32985bdb-2cfc-4d59-aef6-5b8f11551c60",
   "metadata": {},
   "outputs": [
    {
     "data": {
      "text/plain": [
       "<bound method DataFrame.info of     Unnamed: 0           Unnamed: 1              Unnamed: 2  Unnamed: 3  \\\n",
       "0          NaN                 DATE                    NAME    DESCRIBE   \n",
       "1          NaN  2024-02-01 00:00:00                Merhawit  Healthcare   \n",
       "2          NaN  2024-02-01 00:00:00          Abiel G/Meskel    Forklift   \n",
       "3          NaN  2024-02-01 00:00:00          Adhanom Tesfay    Computer   \n",
       "4          NaN  2024-02-01 00:00:00            Bahlbi Guesh    Forklift   \n",
       "5          NaN  2024-02-01 00:00:00        Natnael Yohannes   Excavator   \n",
       "6          NaN  2024-02-01 00:00:00           Yosab solomon   Excavator   \n",
       "7          NaN  2024-02-01 00:00:00            Enginer Fred     Expense   \n",
       "8          NaN  2024-02-01 00:00:00        Water for office     Expense   \n",
       "9          NaN  2024-02-01 00:00:00     Awet wood transport     Expense   \n",
       "10         NaN  2024-03-01 00:00:00  Muyenga site transport     Expense   \n",
       "\n",
       "   Unnamed: 4 Unnamed: 5  \n",
       "0       DEBIT     CREDIT  \n",
       "1      370000          0  \n",
       "2      400000          0  \n",
       "3      250000          0  \n",
       "4      200000        NaN  \n",
       "5       90000          0  \n",
       "6      450000          0  \n",
       "7           0      60000  \n",
       "8           0       5000  \n",
       "9           0       5000  \n",
       "10          0       4000  >"
      ]
     },
     "execution_count": 40,
     "metadata": {},
     "output_type": "execute_result"
    }
   ],
   "source": [
    "df.info"
   ]
  },
  {
   "cell_type": "code",
   "execution_count": 41,
   "id": "91f52a6b-6961-4758-867e-a2d6998b53b5",
   "metadata": {},
   "outputs": [
    {
     "data": {
      "text/plain": [
       "<bound method NDFrame.describe of     Unnamed: 0           Unnamed: 1              Unnamed: 2  Unnamed: 3  \\\n",
       "0          NaN                 DATE                    NAME    DESCRIBE   \n",
       "1          NaN  2024-02-01 00:00:00                Merhawit  Healthcare   \n",
       "2          NaN  2024-02-01 00:00:00          Abiel G/Meskel    Forklift   \n",
       "3          NaN  2024-02-01 00:00:00          Adhanom Tesfay    Computer   \n",
       "4          NaN  2024-02-01 00:00:00            Bahlbi Guesh    Forklift   \n",
       "5          NaN  2024-02-01 00:00:00        Natnael Yohannes   Excavator   \n",
       "6          NaN  2024-02-01 00:00:00           Yosab solomon   Excavator   \n",
       "7          NaN  2024-02-01 00:00:00            Enginer Fred     Expense   \n",
       "8          NaN  2024-02-01 00:00:00        Water for office     Expense   \n",
       "9          NaN  2024-02-01 00:00:00     Awet wood transport     Expense   \n",
       "10         NaN  2024-03-01 00:00:00  Muyenga site transport     Expense   \n",
       "\n",
       "   Unnamed: 4 Unnamed: 5  \n",
       "0       DEBIT     CREDIT  \n",
       "1      370000          0  \n",
       "2      400000          0  \n",
       "3      250000          0  \n",
       "4      200000        NaN  \n",
       "5       90000          0  \n",
       "6      450000          0  \n",
       "7           0      60000  \n",
       "8           0       5000  \n",
       "9           0       5000  \n",
       "10          0       4000  >"
      ]
     },
     "execution_count": 41,
     "metadata": {},
     "output_type": "execute_result"
    }
   ],
   "source": [
    "df.describe\n"
   ]
  },
  {
   "cell_type": "code",
   "execution_count": 42,
   "id": "4fdf454f-fc8c-40fe-af36-f0f5f954cdb1",
   "metadata": {},
   "outputs": [
    {
     "name": "stdout",
     "output_type": "stream",
     "text": [
      "(2, 3)\n",
      "2\n"
     ]
    }
   ],
   "source": [
    "df = pd.DataFrame(np.array([[1, 2, 3], [4, 5, 6]]))\n",
    "\n",
    "# Use the `shape` property\n",
    "print(df.shape)\n",
    "\n",
    "# Or use the `len()` function with the `index` property\n",
    "print(len(df))"
   ]
  },
  {
   "cell_type": "code",
   "execution_count": 43,
   "id": "610a85b0-2c69-4cc0-9c8e-948ca808a215",
   "metadata": {},
   "outputs": [
    {
     "name": "stdout",
     "output_type": "stream",
     "text": [
      "   0  1  2\n",
      "0  1  2  3\n",
      "1  4  5  6\n",
      "   1  2  3\n",
      "0  1  1  2\n",
      "1  3  2  4\n",
      "   A\n",
      "0  4\n",
      "1  5\n",
      "2  6\n",
      "3  7\n",
      "                         0\n",
      "Belgium           Brussels\n",
      "India            New Delhi\n",
      "United Kingdom      London\n",
      "United States   Washington\n"
     ]
    }
   ],
   "source": [
    "# Take a 2D array as input to your DataFrame \n",
    "my_2darray = np.array([[1, 2, 3], [4, 5, 6]])\n",
    "print(pd.DataFrame(my_2darray))\n",
    "\n",
    "# Take a dictionary as input to your DataFrame \n",
    "my_dict = {1: ['1', '3'], 2: ['1', '2'], 3: ['2', '4']}\n",
    "print(pd.DataFrame(my_dict))\n",
    "\n",
    "# Take a DataFrame as input to your DataFrame \n",
    "my_df = pd.DataFrame(data=[4,5,6,7], index=range(0,4), columns=['A'])\n",
    "print(pd.DataFrame(my_df))\n",
    "\n",
    "# Take a Series as input to your DataFrame\n",
    "my_series = pd.Series({\"Belgium\":\"Brussels\", \"India\":\"New Delhi\", \"United Kingdom\":\"London\", \"United States\":\"Washington\"})\n",
    "print(pd.DataFrame(my_series))"
   ]
  },
  {
   "cell_type": "code",
   "execution_count": null,
   "id": "7a364360-9602-490c-9819-454dc5ce8964",
   "metadata": {},
   "outputs": [],
   "source": []
  }
 ],
 "metadata": {
  "kernelspec": {
   "display_name": "Python 3 (ipykernel)",
   "language": "python",
   "name": "python3"
  },
  "language_info": {
   "codemirror_mode": {
    "name": "ipython",
    "version": 3
   },
   "file_extension": ".py",
   "mimetype": "text/x-python",
   "name": "python",
   "nbconvert_exporter": "python",
   "pygments_lexer": "ipython3",
   "version": "3.12.7"
  }
 },
 "nbformat": 4,
 "nbformat_minor": 5
}
