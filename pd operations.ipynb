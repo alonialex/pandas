{
 "cells": [
  {
   "cell_type": "code",
   "execution_count": 37,
   "id": "3f296faf-6fe2-482a-babe-47e8af6d4100",
   "metadata": {},
   "outputs": [],
   "source": [
    "import pandas as pd\n",
    "import numpy as np\n",
    "\n"
   ]
  },
  {
   "cell_type": "code",
   "execution_count": 5,
   "id": "0444dff6-fbb7-46fd-880c-0c50f658a649",
   "metadata": {},
   "outputs": [
    {
     "ename": "SyntaxError",
     "evalue": "incomplete input (2555500008.py, line 4)",
     "output_type": "error",
     "traceback": [
      "\u001b[1;36m  Cell \u001b[1;32mIn[5], line 4\u001b[1;36m\u001b[0m\n\u001b[1;33m    'C': [3, 6, 9]\u001b[0m\n\u001b[1;37m                  ^\u001b[0m\n\u001b[1;31mSyntaxError\u001b[0m\u001b[1;31m:\u001b[0m incomplete input\n"
     ]
    }
   ],
   "source": [
    "df = pd.DataFrame({\n",
    "    'A': [1, 4, 7],\n",
    "    'B': [2, 5, 8],\n",
    "    'C': [3, 6, 9]"
   ]
  },
  {
   "cell_type": "code",
   "execution_count": 6,
   "id": "21a11106-2a6f-4c04-b096-e441ba41f8c3",
   "metadata": {},
   "outputs": [],
   "source": [
    "# Creating the DataFrame\n",
    "df = pd.DataFrame({\n",
    "    'A': [1, 4, 7],\n",
    "    'B': [2, 5, 8],\n",
    "    'C': [3, 6, 9]\n",
    "})"
   ]
  },
  {
   "cell_type": "code",
   "execution_count": 7,
   "id": "b4a9da40-e263-49cd-83a0-66336f65477a",
   "metadata": {},
   "outputs": [
    {
     "name": "stdout",
     "output_type": "stream",
     "text": [
      "   A  B  C\n",
      "0  1  2  3\n",
      "1  4  5  6\n",
      "2  7  8  9\n"
     ]
    }
   ],
   "source": [
    "print(df)"
   ]
  },
  {
   "cell_type": "code",
   "execution_count": 8,
   "id": "976ec23a-3b9d-4d2e-9f8e-92a0dc0380ff",
   "metadata": {},
   "outputs": [
    {
     "name": "stdout",
     "output_type": "stream",
     "text": [
      "1\n"
     ]
    },
    {
     "name": "stderr",
     "output_type": "stream",
     "text": [
      "C:\\Users\\user\\AppData\\Local\\Temp\\ipykernel_3660\\160383345.py:2: FutureWarning: Series.__getitem__ treating keys as positions is deprecated. In a future version, integer keys will always be treated as labels (consistent with DataFrame behavior). To access a value by position, use `ser.iloc[pos]`\n",
      "  print(df.iloc[0][0])\n"
     ]
    }
   ],
   "source": [
    "# Using `iloc[]`\n",
    "print(df.iloc[0][0])"
   ]
  },
  {
   "cell_type": "code",
   "execution_count": 10,
   "id": "d4a48a04-320a-4b1d-867e-67c5f40c6dc9",
   "metadata": {},
   "outputs": [
    {
     "name": "stdout",
     "output_type": "stream",
     "text": [
      "A    1\n",
      "B    2\n",
      "C    3\n",
      "Name: 0, dtype: int64\n"
     ]
    }
   ],
   "source": [
    "# Using `iloc[]`\n",
    "print(df.iloc[0])"
   ]
  },
  {
   "cell_type": "code",
   "execution_count": 12,
   "id": "4d2f20df-c907-4c04-bde7-2e8ff5cae438",
   "metadata": {},
   "outputs": [
    {
     "name": "stdout",
     "output_type": "stream",
     "text": [
      "A    7\n",
      "B    8\n",
      "C    9\n",
      "Name: 2, dtype: int64\n"
     ]
    }
   ],
   "source": [
    "print(df.iloc[2])"
   ]
  },
  {
   "cell_type": "code",
   "execution_count": 13,
   "id": "640c0cac-7ca3-4588-b992-7c8a81a0ab83",
   "metadata": {},
   "outputs": [
    {
     "name": "stdout",
     "output_type": "stream",
     "text": [
      "A    7\n",
      "B    8\n",
      "C    9\n",
      "Name: 2, dtype: int64\n"
     ]
    }
   ],
   "source": [
    "print(df.loc[2])"
   ]
  },
  {
   "cell_type": "code",
   "execution_count": 14,
   "id": "dee6e699-9849-43a7-b833-f5709068a989",
   "metadata": {},
   "outputs": [
    {
     "name": "stdout",
     "output_type": "stream",
     "text": [
      "1\n"
     ]
    }
   ],
   "source": [
    "# Using `loc[]`\n",
    "print(df.loc[0]['A'])"
   ]
  },
  {
   "cell_type": "code",
   "execution_count": 15,
   "id": "0b1ae2da-3df0-41a5-b626-82900fdb99b2",
   "metadata": {},
   "outputs": [
    {
     "name": "stdout",
     "output_type": "stream",
     "text": [
      "   A  B  C\n",
      "0  1  2  3\n",
      "1  4  5  6\n",
      "2  7  8  9\n"
     ]
    }
   ],
   "source": [
    "df = pd.DataFrame({\"A\":[1,4,7], \"B\":[2,5,8], \"C\":[3,6,9]})\n",
    "print(df)"
   ]
  },
  {
   "cell_type": "code",
   "execution_count": 16,
   "id": "7606dd94-e0d7-44d8-881e-adfe814b58f6",
   "metadata": {},
   "outputs": [
    {
     "name": "stdout",
     "output_type": "stream",
     "text": [
      "A    1\n",
      "B    2\n",
      "C    3\n",
      "Name: 0, dtype: int64\n"
     ]
    }
   ],
   "source": [
    "print(df.iloc[0])"
   ]
  },
  {
   "cell_type": "code",
   "execution_count": 17,
   "id": "f8332e21-2d56-48d9-a687-62aea825efc8",
   "metadata": {},
   "outputs": [
    {
     "name": "stdout",
     "output_type": "stream",
     "text": [
      "1\n"
     ]
    },
    {
     "name": "stderr",
     "output_type": "stream",
     "text": [
      "C:\\Users\\user\\AppData\\Local\\Temp\\ipykernel_3660\\3789045009.py:1: FutureWarning: Series.__getitem__ treating keys as positions is deprecated. In a future version, integer keys will always be treated as labels (consistent with DataFrame behavior). To access a value by position, use `ser.iloc[pos]`\n",
      "  print(df.iloc[0][0])\n"
     ]
    }
   ],
   "source": [
    "print(df.iloc[0][0])\n",
    "\n"
   ]
  },
  {
   "cell_type": "code",
   "execution_count": 18,
   "id": "d02238ce-b4d3-445b-9c8b-562e03f904d9",
   "metadata": {},
   "outputs": [
    {
     "name": "stdout",
     "output_type": "stream",
     "text": [
      "1\n"
     ]
    }
   ],
   "source": [
    "print(df.loc[0]['A'])\n",
    "\n"
   ]
  },
  {
   "cell_type": "code",
   "execution_count": 19,
   "id": "d9a25d03-9eea-4f18-9ef7-f8e45e43e565",
   "metadata": {},
   "outputs": [
    {
     "name": "stdout",
     "output_type": "stream",
     "text": [
      "   A  B  C\n",
      "0  1  2  3\n",
      "1  4  5  6\n",
      "2  7  8  9\n"
     ]
    }
   ],
   "source": [
    "df = pd.DataFrame({\"A\":[1,4,7], \"B\":[2,5,8], \"C\":[3,6,9]})\n",
    "print(df)"
   ]
  },
  {
   "cell_type": "code",
   "execution_count": 20,
   "id": "dcc35425-d238-433c-9fa7-278b367ecd05",
   "metadata": {},
   "outputs": [
    {
     "name": "stdout",
     "output_type": "stream",
     "text": [
      "1\n"
     ]
    }
   ],
   "source": [
    "print(df.loc[0]['A'])"
   ]
  },
  {
   "cell_type": "code",
   "execution_count": 25,
   "id": "9ff4c2e3-3a07-4d1c-9dbc-95aae8ed4893",
   "metadata": {},
   "outputs": [
    {
     "name": "stdout",
     "output_type": "stream",
     "text": [
      "9\n"
     ]
    }
   ],
   "source": [
    "print(df.loc[2]['C'])"
   ]
  },
  {
   "cell_type": "code",
   "execution_count": 26,
   "id": "bdd98d44-7bd8-4aab-bd77-8a926385a1a0",
   "metadata": {},
   "outputs": [
    {
     "name": "stdout",
     "output_type": "stream",
     "text": [
      "1\n"
     ]
    }
   ],
   "source": [
    "print(df.at[0,'A'])\n",
    "\n"
   ]
  },
  {
   "cell_type": "code",
   "execution_count": 27,
   "id": "586bb3bc-fb2a-493e-94f9-caa86346df47",
   "metadata": {},
   "outputs": [
    {
     "name": "stdout",
     "output_type": "stream",
     "text": [
      "1\n"
     ]
    }
   ],
   "source": [
    "print(df.iat[0,0])\n",
    "\n"
   ]
  },
  {
   "cell_type": "code",
   "execution_count": 28,
   "id": "6173a322-d93e-4058-ab6a-3c2359672bcc",
   "metadata": {},
   "outputs": [
    {
     "name": "stdout",
     "output_type": "stream",
     "text": [
      "A    1\n",
      "B    2\n",
      "C    3\n",
      "Name: 0, dtype: int64\n"
     ]
    }
   ],
   "source": [
    "# Use `iloc[]` to select row `0`\n",
    "print(df.iloc[0])\n",
    "\n"
   ]
  },
  {
   "cell_type": "code",
   "execution_count": 29,
   "id": "f75de057-d185-4dab-8afd-cffdae8cd7ac",
   "metadata": {},
   "outputs": [
    {
     "name": "stdout",
     "output_type": "stream",
     "text": [
      "0    1\n",
      "1    4\n",
      "2    7\n",
      "Name: A, dtype: int64\n"
     ]
    }
   ],
   "source": [
    "\n",
    "# Use `loc[]` to select column `'A'`\n",
    "print(df.loc[:,'A'])"
   ]
  },
  {
   "cell_type": "code",
   "execution_count": 30,
   "id": "1083cdf4-4987-4550-87b4-ad1748587c76",
   "metadata": {},
   "outputs": [
    {
     "name": "stdout",
     "output_type": "stream",
     "text": [
      "   A  B  C\n",
      "0  1  2  3\n",
      "1  4  5  6\n",
      "2  7  8  9\n"
     ]
    }
   ],
   "source": [
    "df = pd.DataFrame({\"A\":[1,4,7], \"B\":[2,5,8], \"C\":[3,6,9]})\n",
    "print(df)"
   ]
  },
  {
   "cell_type": "code",
   "execution_count": 31,
   "id": "fe31b906-d062-4fc2-be02-7fde8b249e88",
   "metadata": {},
   "outputs": [
    {
     "name": "stdout",
     "output_type": "stream",
     "text": [
      "   A  B  C\n",
      "0  1  2  3\n",
      "1  4  5  6\n",
      "2  7  8  9\n"
     ]
    },
    {
     "data": {
      "text/html": [
       "<div>\n",
       "<style scoped>\n",
       "    .dataframe tbody tr th:only-of-type {\n",
       "        vertical-align: middle;\n",
       "    }\n",
       "\n",
       "    .dataframe tbody tr th {\n",
       "        vertical-align: top;\n",
       "    }\n",
       "\n",
       "    .dataframe thead th {\n",
       "        text-align: right;\n",
       "    }\n",
       "</style>\n",
       "<table border=\"1\" class=\"dataframe\">\n",
       "  <thead>\n",
       "    <tr style=\"text-align: right;\">\n",
       "      <th></th>\n",
       "      <th>A</th>\n",
       "      <th>B</th>\n",
       "    </tr>\n",
       "    <tr>\n",
       "      <th>C</th>\n",
       "      <th></th>\n",
       "      <th></th>\n",
       "    </tr>\n",
       "  </thead>\n",
       "  <tbody>\n",
       "    <tr>\n",
       "      <th>3</th>\n",
       "      <td>1</td>\n",
       "      <td>2</td>\n",
       "    </tr>\n",
       "    <tr>\n",
       "      <th>6</th>\n",
       "      <td>4</td>\n",
       "      <td>5</td>\n",
       "    </tr>\n",
       "    <tr>\n",
       "      <th>9</th>\n",
       "      <td>7</td>\n",
       "      <td>8</td>\n",
       "    </tr>\n",
       "  </tbody>\n",
       "</table>\n",
       "</div>"
      ],
      "text/plain": [
       "   A  B\n",
       "C      \n",
       "3  1  2\n",
       "6  4  5\n",
       "9  7  8"
      ]
     },
     "execution_count": 31,
     "metadata": {},
     "output_type": "execute_result"
    }
   ],
   "source": [
    "# Print out your DataFrame `df` to check it out\n",
    "print(df)\n",
    "\n",
    "# Set 'C' as the index of your DataFrame\n",
    "df.set_index('C')"
   ]
  },
  {
   "cell_type": "code",
   "execution_count": 32,
   "id": "72e791f0-3641-45d9-865a-5e41b6c6a190",
   "metadata": {},
   "outputs": [
    {
     "name": "stdout",
     "output_type": "stream",
     "text": [
      "   A  B  C\n",
      "0  1  2  3\n",
      "1  4  5  6\n",
      "2  7  8  9\n"
     ]
    },
    {
     "ename": "KeyError",
     "evalue": "\"None of ['E'] are in the columns\"",
     "output_type": "error",
     "traceback": [
      "\u001b[1;31m---------------------------------------------------------------------------\u001b[0m",
      "\u001b[1;31mKeyError\u001b[0m                                  Traceback (most recent call last)",
      "\u001b[1;32m~\\AppData\\Local\\Temp\\ipykernel_3660\\2345463008.py\u001b[0m in \u001b[0;36m?\u001b[1;34m()\u001b[0m\n\u001b[0;32m      1\u001b[0m \u001b[1;31m# Print out your DataFrame `df` to check it out\u001b[0m\u001b[1;33m\u001b[0m\u001b[1;33m\u001b[0m\u001b[0m\n\u001b[0;32m      2\u001b[0m \u001b[0mprint\u001b[0m\u001b[1;33m(\u001b[0m\u001b[0mdf\u001b[0m\u001b[1;33m)\u001b[0m\u001b[1;33m\u001b[0m\u001b[1;33m\u001b[0m\u001b[0m\n\u001b[0;32m      3\u001b[0m \u001b[1;33m\u001b[0m\u001b[0m\n\u001b[0;32m      4\u001b[0m \u001b[1;31m# Set 'C' as the index of your DataFrame\u001b[0m\u001b[1;33m\u001b[0m\u001b[1;33m\u001b[0m\u001b[0m\n\u001b[1;32m----> 5\u001b[1;33m \u001b[0mdf\u001b[0m\u001b[1;33m.\u001b[0m\u001b[0mset_index\u001b[0m\u001b[1;33m(\u001b[0m\u001b[1;34m'E'\u001b[0m\u001b[1;33m)\u001b[0m\u001b[1;33m\u001b[0m\u001b[1;33m\u001b[0m\u001b[0m\n\u001b[0m",
      "\u001b[1;32m~\\anaconda3\\Lib\\site-packages\\pandas\\core\\frame.py\u001b[0m in \u001b[0;36m?\u001b[1;34m(self, keys, drop, append, inplace, verify_integrity)\u001b[0m\n\u001b[0;32m   6118\u001b[0m                     \u001b[1;32mif\u001b[0m \u001b[1;32mnot\u001b[0m \u001b[0mfound\u001b[0m\u001b[1;33m:\u001b[0m\u001b[1;33m\u001b[0m\u001b[1;33m\u001b[0m\u001b[0m\n\u001b[0;32m   6119\u001b[0m                         \u001b[0mmissing\u001b[0m\u001b[1;33m.\u001b[0m\u001b[0mappend\u001b[0m\u001b[1;33m(\u001b[0m\u001b[0mcol\u001b[0m\u001b[1;33m)\u001b[0m\u001b[1;33m\u001b[0m\u001b[1;33m\u001b[0m\u001b[0m\n\u001b[0;32m   6120\u001b[0m \u001b[1;33m\u001b[0m\u001b[0m\n\u001b[0;32m   6121\u001b[0m         \u001b[1;32mif\u001b[0m \u001b[0mmissing\u001b[0m\u001b[1;33m:\u001b[0m\u001b[1;33m\u001b[0m\u001b[1;33m\u001b[0m\u001b[0m\n\u001b[1;32m-> 6122\u001b[1;33m             \u001b[1;32mraise\u001b[0m \u001b[0mKeyError\u001b[0m\u001b[1;33m(\u001b[0m\u001b[1;33mf\"\u001b[0m\u001b[1;33mNone of \u001b[0m\u001b[1;33m{\u001b[0m\u001b[0mmissing\u001b[0m\u001b[1;33m}\u001b[0m\u001b[1;33m are in the columns\u001b[0m\u001b[1;33m\"\u001b[0m\u001b[1;33m)\u001b[0m\u001b[1;33m\u001b[0m\u001b[1;33m\u001b[0m\u001b[0m\n\u001b[0m\u001b[0;32m   6123\u001b[0m \u001b[1;33m\u001b[0m\u001b[0m\n\u001b[0;32m   6124\u001b[0m         \u001b[1;32mif\u001b[0m \u001b[0minplace\u001b[0m\u001b[1;33m:\u001b[0m\u001b[1;33m\u001b[0m\u001b[1;33m\u001b[0m\u001b[0m\n\u001b[0;32m   6125\u001b[0m             \u001b[0mframe\u001b[0m \u001b[1;33m=\u001b[0m \u001b[0mself\u001b[0m\u001b[1;33m\u001b[0m\u001b[1;33m\u001b[0m\u001b[0m\n",
      "\u001b[1;31mKeyError\u001b[0m: \"None of ['E'] are in the columns\""
     ]
    }
   ],
   "source": [
    "# Print out your DataFrame `df` to check it out\n",
    "print(df)\n",
    "\n",
    "# Set 'C' as the index of your DataFrame\n",
    "df.set_index('E')"
   ]
  },
  {
   "cell_type": "code",
   "execution_count": 33,
   "id": "7ec9c968-30ef-4d38-b6d5-fbd199ee2020",
   "metadata": {},
   "outputs": [
    {
     "name": "stdout",
     "output_type": "stream",
     "text": [
      "   A  B  C\n",
      "0  1  2  3\n",
      "1  4  5  6\n",
      "2  7  8  9\n"
     ]
    },
    {
     "data": {
      "text/html": [
       "<div>\n",
       "<style scoped>\n",
       "    .dataframe tbody tr th:only-of-type {\n",
       "        vertical-align: middle;\n",
       "    }\n",
       "\n",
       "    .dataframe tbody tr th {\n",
       "        vertical-align: top;\n",
       "    }\n",
       "\n",
       "    .dataframe thead th {\n",
       "        text-align: right;\n",
       "    }\n",
       "</style>\n",
       "<table border=\"1\" class=\"dataframe\">\n",
       "  <thead>\n",
       "    <tr style=\"text-align: right;\">\n",
       "      <th></th>\n",
       "      <th>A</th>\n",
       "      <th>C</th>\n",
       "    </tr>\n",
       "    <tr>\n",
       "      <th>B</th>\n",
       "      <th></th>\n",
       "      <th></th>\n",
       "    </tr>\n",
       "  </thead>\n",
       "  <tbody>\n",
       "    <tr>\n",
       "      <th>2</th>\n",
       "      <td>1</td>\n",
       "      <td>3</td>\n",
       "    </tr>\n",
       "    <tr>\n",
       "      <th>5</th>\n",
       "      <td>4</td>\n",
       "      <td>6</td>\n",
       "    </tr>\n",
       "    <tr>\n",
       "      <th>8</th>\n",
       "      <td>7</td>\n",
       "      <td>9</td>\n",
       "    </tr>\n",
       "  </tbody>\n",
       "</table>\n",
       "</div>"
      ],
      "text/plain": [
       "   A  C\n",
       "B      \n",
       "2  1  3\n",
       "5  4  6\n",
       "8  7  9"
      ]
     },
     "execution_count": 33,
     "metadata": {},
     "output_type": "execute_result"
    }
   ],
   "source": [
    "# Print out your DataFrame `df` to check it out\n",
    "print(df)\n",
    "\n",
    "# Set 'C' as the index of your DataFrame\n",
    "df.set_index('B')"
   ]
  },
  {
   "cell_type": "code",
   "execution_count": 34,
   "id": "1ca3c14a-27ce-4afc-a16c-d302168bf0ee",
   "metadata": {},
   "outputs": [
    {
     "data": {
      "text/plain": [
       "<bound method NDFrame.head of    A  B  C\n",
       "0  1  2  3\n",
       "1  4  5  6\n",
       "2  7  8  9>"
      ]
     },
     "execution_count": 34,
     "metadata": {},
     "output_type": "execute_result"
    }
   ],
   "source": [
    "df.head"
   ]
  },
  {
   "cell_type": "code",
   "execution_count": null,
   "id": "88ccc4d6-afc3-4361-bd37-923ab966df47",
   "metadata": {},
   "outputs": [],
   "source": []
  },
  {
   "cell_type": "code",
   "execution_count": 35,
   "id": "c88f1a52-525c-4ec0-8841-ed6df7aacae8",
   "metadata": {},
   "outputs": [
    {
     "ename": "NameError",
     "evalue": "name 'np' is not defined",
     "output_type": "error",
     "traceback": [
      "\u001b[1;31m---------------------------------------------------------------------------\u001b[0m",
      "\u001b[1;31mNameError\u001b[0m                                 Traceback (most recent call last)",
      "Cell \u001b[1;32mIn[35], line 1\u001b[0m\n\u001b[1;32m----> 1\u001b[0m df \u001b[38;5;241m=\u001b[39m pd\u001b[38;5;241m.\u001b[39mDataFrame(data\u001b[38;5;241m=\u001b[39mnp\u001b[38;5;241m.\u001b[39marray([[\u001b[38;5;241m1\u001b[39m, \u001b[38;5;241m2\u001b[39m, \u001b[38;5;241m3\u001b[39m], [\u001b[38;5;241m4\u001b[39m, \u001b[38;5;241m5\u001b[39m, \u001b[38;5;241m6\u001b[39m], [\u001b[38;5;241m7\u001b[39m, \u001b[38;5;241m8\u001b[39m, \u001b[38;5;241m9\u001b[39m]]), index\u001b[38;5;241m=\u001b[39m [\u001b[38;5;241m2\u001b[39m, \u001b[38;5;124m'\u001b[39m\u001b[38;5;124mA\u001b[39m\u001b[38;5;124m'\u001b[39m, \u001b[38;5;241m4\u001b[39m], columns\u001b[38;5;241m=\u001b[39m[\u001b[38;5;241m48\u001b[39m, \u001b[38;5;241m49\u001b[39m, \u001b[38;5;241m50\u001b[39m])\n\u001b[0;32m      3\u001b[0m \u001b[38;5;66;03m# Pass `2` to `loc`\u001b[39;00m\n\u001b[0;32m      4\u001b[0m \u001b[38;5;28mprint\u001b[39m(df\u001b[38;5;241m.\u001b[39mloc[\u001b[38;5;241m2\u001b[39m])\n",
      "\u001b[1;31mNameError\u001b[0m: name 'np' is not defined"
     ]
    }
   ],
   "source": [
    "df = pd.DataFrame(data=np.array([[1, 2, 3], [4, 5, 6], [7, 8, 9]]), index= [2, 'A', 4], columns=[48, 49, 50])\n",
    "\n",
    "# Pass `2` to `loc`\n",
    "print(df.loc[2])\n",
    "\n"
   ]
  },
  {
   "cell_type": "code",
   "execution_count": 36,
   "id": "a8f73331-cc13-4194-a2bb-8c4cb4f9cb15",
   "metadata": {},
   "outputs": [
    {
     "ename": "NameError",
     "evalue": "name 'np' is not defined",
     "output_type": "error",
     "traceback": [
      "\u001b[1;31m---------------------------------------------------------------------------\u001b[0m",
      "\u001b[1;31mNameError\u001b[0m                                 Traceback (most recent call last)",
      "Cell \u001b[1;32mIn[36], line 1\u001b[0m\n\u001b[1;32m----> 1\u001b[0m df \u001b[38;5;241m=\u001b[39m pd\u001b[38;5;241m.\u001b[39mDataFrame(data\u001b[38;5;241m=\u001b[39mnp\u001b[38;5;241m.\u001b[39marray([[\u001b[38;5;241m1\u001b[39m, \u001b[38;5;241m2\u001b[39m, \u001b[38;5;241m3\u001b[39m], [\u001b[38;5;241m4\u001b[39m, \u001b[38;5;241m5\u001b[39m, \u001b[38;5;241m6\u001b[39m], [\u001b[38;5;241m7\u001b[39m, \u001b[38;5;241m8\u001b[39m, \u001b[38;5;241m9\u001b[39m]]), index\u001b[38;5;241m=\u001b[39m [\u001b[38;5;241m2\u001b[39m, \u001b[38;5;124m'\u001b[39m\u001b[38;5;124mA\u001b[39m\u001b[38;5;124m'\u001b[39m, \u001b[38;5;241m4\u001b[39m], columns\u001b[38;5;241m=\u001b[39m[\u001b[38;5;241m48\u001b[39m, \u001b[38;5;241m49\u001b[39m, \u001b[38;5;241m50\u001b[39m])\n",
      "\u001b[1;31mNameError\u001b[0m: name 'np' is not defined"
     ]
    }
   ],
   "source": [
    "df = pd.DataFrame(data=np.array([[1, 2, 3], [4, 5, 6], [7, 8, 9]]), index= [2, 'A', 4], columns=[48, 49, 50])\n",
    "\n"
   ]
  },
  {
   "cell_type": "code",
   "execution_count": 38,
   "id": "bb43d252-6e0d-4ee0-8fb7-1ecc3b6e2221",
   "metadata": {},
   "outputs": [
    {
     "name": "stdout",
     "output_type": "stream",
     "text": [
      "48    1\n",
      "49    2\n",
      "50    3\n",
      "Name: 2, dtype: int32\n",
      "48    7\n",
      "49    8\n",
      "50    9\n",
      "Name: 4, dtype: int32\n"
     ]
    }
   ],
   "source": [
    "df = pd.DataFrame(data=np.array([[1, 2, 3], [4, 5, 6], [7, 8, 9]]), index= [2, 'A', 4], columns=[48, 49, 50])\n",
    "\n",
    "# Pass `2` to `loc`\n",
    "print(df.loc[2])\n",
    "\n",
    "# Pass `2` to `iloc`\n",
    "print(df.iloc[2])"
   ]
  },
  {
   "cell_type": "code",
   "execution_count": 39,
   "id": "e0d771bf-6ecf-47a8-8d69-23d7f109bc54",
   "metadata": {},
   "outputs": [],
   "source": [
    "df = pd.DataFrame(data=np.array([[1, 2, 3], [4, 5, 6], [7, 8, 9]]), index= [2, 'A', 4], columns=[48, 49, 50])\n",
    "\n"
   ]
  },
  {
   "cell_type": "code",
   "execution_count": 40,
   "id": "199f82fb-0efe-440d-b244-a27ede8b4232",
   "metadata": {},
   "outputs": [
    {
     "name": "stdout",
     "output_type": "stream",
     "text": [
      "48    1\n",
      "49    2\n",
      "50    3\n",
      "Name: 2, dtype: int32\n"
     ]
    }
   ],
   "source": [
    "\n",
    "\n",
    "# Pass `2` to `loc`\n",
    "print(df.loc[2])\n",
    "\n"
   ]
  },
  {
   "cell_type": "code",
   "execution_count": 41,
   "id": "da8ace74-7a01-47bb-be1e-2fcf6af16f27",
   "metadata": {},
   "outputs": [
    {
     "name": "stdout",
     "output_type": "stream",
     "text": [
      "48    7\n",
      "49    8\n",
      "50    9\n",
      "Name: 4, dtype: int32\n"
     ]
    }
   ],
   "source": [
    "\n",
    "# Pass `2` to `iloc`\n",
    "print(df.iloc[2])"
   ]
  },
  {
   "cell_type": "code",
   "execution_count": 42,
   "id": "f8c40a78-3fc2-45e2-8e9c-e101ad857118",
   "metadata": {},
   "outputs": [
    {
     "name": "stdout",
     "output_type": "stream",
     "text": [
      "      48  49  50\n",
      "2.5    1   2   3\n",
      "12.6   4   5   6\n",
      "4.8    7   8   9\n",
      "2.0   11  12  13\n"
     ]
    }
   ],
   "source": [
    "df = pd.DataFrame(data=np.array([[1, 2, 3], [4, 5, 6], [7, 8, 9]]), index= [2.5, 12.6, 4.8], columns=[48, 49, 50])\n",
    "\n",
    "# This will make an index labeled `2` and add the new values\n",
    "df.loc[2] = [11, 12, 13]\n",
    "print(df)"
   ]
  },
  {
   "cell_type": "code",
   "execution_count": 47,
   "id": "22a7a0d8-098e-4eb3-bb7f-b4db500e5514",
   "metadata": {},
   "outputs": [
    {
     "name": "stdout",
     "output_type": "stream",
     "text": [
      "   A  B  C  D\n",
      "0  1  2  3  0\n",
      "1  4  5  6  1\n",
      "2  7  8  9  2\n"
     ]
    }
   ],
   "source": [
    "df = pd.DataFrame(data=np.array([[1, 2, 3], [4, 5, 6], [7, 8, 9]]), columns=['A', 'B', 'C'])\n",
    "\n",
    "# Use `.index`\n",
    "df['D'] = df.index\n",
    "\n",
    "# Print `df`\n",
    "print(df)"
   ]
  },
  {
   "cell_type": "code",
   "execution_count": 48,
   "id": "04cd0c47-7188-4f98-9537-3ad44b8e72a2",
   "metadata": {},
   "outputs": [
    {
     "name": "stdout",
     "output_type": "stream",
     "text": [
      "   A  B  C  D\n",
      "0  1  2  3  0\n",
      "1  4  5  6  1\n",
      "2  7  8  9  2\n",
      "   A  B  C  D  4\n",
      "0  1  2  3  0  5\n",
      "1  4  5  6  1  6\n",
      "2  7  8  9  2  7\n"
     ]
    }
   ],
   "source": [
    "# Study the DataFrame `df`\n",
    "print(df)\n",
    "\n",
    "# Append a column to `df`\n",
    "df.loc[:, 4] = pd.Series(['5', '6', '7'], index=df.index)\n",
    "\n",
    "# Print out `df` again to see the changes\n",
    "print(df)"
   ]
  },
  {
   "cell_type": "code",
   "execution_count": 46,
   "id": "e864b854-394a-4438-883b-1cb1f7ad0ed6",
   "metadata": {},
   "outputs": [
    {
     "name": "stdout",
     "output_type": "stream",
     "text": [
      "   A  B  C  D  4\n",
      "0  1  2  3  0  5\n",
      "1  4  5  6  1  6\n",
      "2  7  8  9  2  7\n"
     ]
    }
   ],
   "source": [
    "# Study the DataFrame `df`\n",
    "print(df)\n",
    "\n",
    "# Append a column to `df`\n",
    "df.loc[:, 4] = pd.Series(['5', '6', '7'], index=df.index)\n",
    "\n"
   ]
  },
  {
   "cell_type": "code",
   "execution_count": 54,
   "id": "e67b4eff-2966-4bf7-9848-22809755a438",
   "metadata": {},
   "outputs": [
    {
     "name": "stdout",
     "output_type": "stream",
     "text": [
      "   A  B  C  D  4  5  6  10\n",
      "0  1  2  3  0  5  1  1  10\n",
      "1  4  5  6  1  6  7  7   8\n",
      "2  7  8  9  2  7  6  6  44\n"
     ]
    }
   ],
   "source": [
    "# Study the DataFrame `df`\n",
    "print(df)\n",
    "\n",
    "# Append a column to `df`\n",
    "df.loc[:, 7] = pd.Series(['10', '8', '44'], index=df.index)\n",
    "\n"
   ]
  },
  {
   "cell_type": "code",
   "execution_count": 55,
   "id": "4b310087-c5a5-439e-9334-2bbd5637e4d3",
   "metadata": {},
   "outputs": [
    {
     "name": "stdout",
     "output_type": "stream",
     "text": [
      "   A  B  C  D  4  5  6  10   7\n",
      "0  1  2  3  0  5  1  1  10  10\n",
      "1  4  5  6  1  6  7  7   8   8\n",
      "2  7  8  9  2  7  6  6  44  44\n"
     ]
    }
   ],
   "source": [
    "# Study the DataFrame `df`\n",
    "print(df)\n",
    "\n",
    "# Append a column to `df`\n",
    "df.loc[:, 11] = pd.Series(['18', '48', '48'], index=df.index)"
   ]
  },
  {
   "cell_type": "code",
   "execution_count": 57,
   "id": "6e3ec9fa-730b-4f15-ba5b-5fe9d4e7e5e2",
   "metadata": {},
   "outputs": [
    {
     "name": "stdout",
     "output_type": "stream",
     "text": [
      "   A  B  C  D  4  5  6  10   7  11\n",
      "0  1  2  3  0  5  1  1  10  10  18\n",
      "1  4  5  6  1  6  7  7   8   8  48\n",
      "2  7  8  9  2  7  6  6  44  44  48\n"
     ]
    }
   ],
   "source": [
    "# Study the DataFrame `df`\n",
    "print(df)\n",
    "\n",
    "# Append a column to `df`\n",
    "df.loc[:, 21] = pd.Series(['45', '488', '148'], index=df.index)"
   ]
  },
  {
   "cell_type": "code",
   "execution_count": 58,
   "id": "acdb5439-763f-4324-bb15-8558e32f3f50",
   "metadata": {},
   "outputs": [
    {
     "name": "stdout",
     "output_type": "stream",
     "text": [
      "   A  B  C  D  4  5  6  10   7  11   21\n",
      "0  1  2  3  0  5  1  1  10  10  18   45\n",
      "1  4  5  6  1  6  7  7   8   8  48  488\n",
      "2  7  8  9  2  7  6  6  44  44  48  148\n"
     ]
    }
   ],
   "source": [
    "# Study the DataFrame `df`\n",
    "print(df)\n",
    "\n",
    "# Append a column to `df`\n",
    "df.loc[:, 34] = pd.Series(['14', '67', '46'], index=df.index)"
   ]
  },
  {
   "cell_type": "code",
   "execution_count": 59,
   "id": "d2bd32d2-2c0b-4bef-b6a3-ac36a56dbd82",
   "metadata": {},
   "outputs": [
    {
     "name": "stdout",
     "output_type": "stream",
     "text": [
      "   A  B  C  D  4  5  6  10   7  11   21  34\n",
      "0  1  2  3  0  5  1  1  10  10  18   45  14\n",
      "1  4  5  6  1  6  7  7   8   8  48  488  67\n",
      "2  7  8  9  2  7  6  6  44  44  48  148  46\n",
      "   A  B  C  D  4  5  6  10   7  11   21  34\n",
      "0  1  2  3  0  5  1  1  10  10  18   45  14\n",
      "1  4  5  6  1  6  7  7   8   8  48  488  67\n",
      "2  7  8  9  2  7  6  6  44  44  48  148  46\n"
     ]
    }
   ],
   "source": [
    "# Check out the weird index of your dataframe\n",
    "print(df)\n",
    "\n",
    "# Use `reset_index()` to reset the values.\n",
    "df_reset = df.reset_index(level=0, drop=True)\n",
    "\n",
    "# Print `df_reset`\n",
    "print(df_reset)"
   ]
  },
  {
   "cell_type": "code",
   "execution_count": 60,
   "id": "57b63b71-6602-4d3f-b117-91a7306ab3d3",
   "metadata": {},
   "outputs": [
    {
     "name": "stdout",
     "output_type": "stream",
     "text": [
      "   A  B  C  D  4  5  6  10   7  11   21  34\n",
      "0  1  2  3  0  5  1  1  10  10  18   45  14\n",
      "1  4  5  6  1  6  7  7   8   8  48  488  67\n",
      "2  7  8  9  2  7  6  6  44  44  48  148  46\n"
     ]
    }
   ],
   "source": [
    "# Check out the weird index of your dataframe\n",
    "print(df)\n",
    "\n",
    "# Use `reset_index()` to reset the values.\n",
    "df_reset = df.reset_index(level=0, drop=True)\n",
    "\n"
   ]
  },
  {
   "cell_type": "code",
   "execution_count": 61,
   "id": "63abce94-89b0-4fb8-b1c3-4c88ed761497",
   "metadata": {},
   "outputs": [
    {
     "name": "stdout",
     "output_type": "stream",
     "text": [
      "   A  B  C  D  4  5  6  10   7  11   21  34\n",
      "0  1  2  3  0  5  1  1  10  10  18   45  14\n",
      "1  4  5  6  1  6  7  7   8   8  48  488  67\n",
      "2  7  8  9  2  7  6  6  44  44  48  148  46\n"
     ]
    }
   ],
   "source": [
    "\n",
    "# Print `df_reset`\n",
    "print(df_reset)"
   ]
  },
  {
   "cell_type": "code",
   "execution_count": null,
   "id": "46a272db-850e-4cf2-a1ba-0bfb82925a10",
   "metadata": {},
   "outputs": [],
   "source": []
  }
 ],
 "metadata": {
  "kernelspec": {
   "display_name": "Python 3 (ipykernel)",
   "language": "python",
   "name": "python3"
  },
  "language_info": {
   "codemirror_mode": {
    "name": "ipython",
    "version": 3
   },
   "file_extension": ".py",
   "mimetype": "text/x-python",
   "name": "python",
   "nbconvert_exporter": "python",
   "pygments_lexer": "ipython3",
   "version": "3.12.7"
  }
 },
 "nbformat": 4,
 "nbformat_minor": 5
}
